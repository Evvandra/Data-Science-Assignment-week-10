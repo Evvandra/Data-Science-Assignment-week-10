{
  "nbformat": 4,
  "nbformat_minor": 0,
  "metadata": {
    "colab": {
      "provenance": []
    },
    "kernelspec": {
      "name": "python3",
      "display_name": "Python 3"
    },
    "language_info": {
      "name": "python"
    }
  },
  "cells": [
    {
      "cell_type": "code",
      "execution_count": 1,
      "metadata": {
        "id": "4Zcd4hcOtp6Y"
      },
      "outputs": [],
      "source": [
        "import pandas as pd\n",
        "from math import sqrt\n",
        "import numpy as np"
      ]
    },
    {
      "cell_type": "code",
      "source": [
        "movies = pd.read_csv('/content/movies.csv')\n",
        "ratings = pd.read_csv('/content/ratings.csv')\n",
        "movies.info()"
      ],
      "metadata": {
        "colab": {
          "base_uri": "https://localhost:8080/"
        },
        "id": "6lmsuU-DuaLX",
        "outputId": "b46d4e8a-9379-4762-f5dc-3e1c8f5c0155"
      },
      "execution_count": 4,
      "outputs": [
        {
          "output_type": "stream",
          "name": "stdout",
          "text": [
            "<class 'pandas.core.frame.DataFrame'>\n",
            "RangeIndex: 62423 entries, 0 to 62422\n",
            "Data columns (total 3 columns):\n",
            " #   Column   Non-Null Count  Dtype \n",
            "---  ------   --------------  ----- \n",
            " 0   movieId  62423 non-null  int64 \n",
            " 1   title    62423 non-null  object\n",
            " 2   genres   62423 non-null  object\n",
            "dtypes: int64(1), object(2)\n",
            "memory usage: 1.4+ MB\n"
          ]
        }
      ]
    },
    {
      "cell_type": "code",
      "source": [
        "userInput = [{'title':'A Star Is Born (2018)', 'rating':3.5},\n",
        "             {'title':'Jumanji: Welcome to the Jungle (2017)', 'rating':4},\n",
        "             {'title':'Batman (1943)', 'rating':4.5},\n",
        "             {'title':'Inception (2010)', 'rating':5},\n",
        "             {'title':'La La Land (2016)', 'rating':4}]\n",
        "inputMovies = pd.DataFrame(userInput)\n",
        "print(inputMovies)"
      ],
      "metadata": {
        "colab": {
          "base_uri": "https://localhost:8080/"
        },
        "id": "Ei-1OSIoyFhN",
        "outputId": "198e0d57-a129-4da7-bc8d-8c25c2141891"
      },
      "execution_count": 14,
      "outputs": [
        {
          "output_type": "stream",
          "name": "stdout",
          "text": [
            "                                   title  rating\n",
            "0                  A Star Is Born (2018)     3.5\n",
            "1  Jumanji: Welcome to the Jungle (2017)     4.0\n",
            "2                          Batman (1943)     4.5\n",
            "3                       Inception (2010)     5.0\n",
            "4                      La La Land (2016)     4.0\n"
          ]
        }
      ]
    },
    {
      "cell_type": "code",
      "source": [
        "inputId = movies[movies['title'].isin(inputMovies['title'].tolist())]\n",
        "inputMovies = pd.merge(inputId, inputMovies)\n",
        "inputMovies = inputMovies.drop('genres', 1)\n",
        "inputMovies = inputMovies[['movieId','title','rating']]\n",
        "print(inputMovies)"
      ],
      "metadata": {
        "colab": {
          "base_uri": "https://localhost:8080/"
        },
        "id": "sWuXQ-az0DQ3",
        "outputId": "3ce020ba-6fae-4037-fa02-c694609d0ad1"
      },
      "execution_count": 15,
      "outputs": [
        {
          "output_type": "stream",
          "name": "stdout",
          "text": [
            "   movieId                                  title  rating\n",
            "0    79132                       Inception (2010)     5.0\n",
            "1    91054                          Batman (1943)     4.5\n",
            "2   164909                      La La Land (2016)     4.0\n",
            "3   179401  Jumanji: Welcome to the Jungle (2017)     4.0\n",
            "4   192385                  A Star Is Born (2018)     3.5\n"
          ]
        },
        {
          "output_type": "stream",
          "name": "stderr",
          "text": [
            "<ipython-input-15-b234746ee70f>:3: FutureWarning: In a future version of pandas all arguments of DataFrame.drop except for the argument 'labels' will be keyword-only.\n",
            "  inputMovies = inputMovies.drop('genres', 1)\n"
          ]
        }
      ]
    },
    {
      "cell_type": "code",
      "source": [
        "userSubset = ratings[ratings['movieId'].isin(inputMovies['movieId'].tolist())]\n",
        "print(userSubset.groupby('movieId').count())"
      ],
      "metadata": {
        "colab": {
          "base_uri": "https://localhost:8080/"
        },
        "id": "Zh9bRg_k1Si8",
        "outputId": "1d0bb25e-0e11-43a8-fac6-1f5e64dc142a"
      },
      "execution_count": 18,
      "outputs": [
        {
          "output_type": "stream",
          "name": "stdout",
          "text": [
            "         userId  rating  timestamp\n",
            "movieId                           \n",
            "79132      1079    1079       1079\n",
            "164909       95      95         95\n",
            "179401       51      51         51\n",
            "192385       28      28         28\n"
          ]
        }
      ]
    },
    {
      "cell_type": "code",
      "source": [
        "userSubsetGroup = userSubset.groupby(['userId'])\n",
        "\n",
        "def take_5_elem(x):\n",
        "    return len(x[1])\n",
        "\n",
        "userSubsetGroup = sorted(userSubsetGroup, key=take_5_elem, reverse=True)\n",
        "\n",
        "userSubsetGroup = userSubsetGroup[0:100]\n",
        "print(userSubsetGroup[0:5])"
      ],
      "metadata": {
        "colab": {
          "base_uri": "https://localhost:8080/"
        },
        "id": "BWgwpItd1eCd",
        "outputId": "d4ae5092-d78f-44c1-cb4d-b91704891669"
      },
      "execution_count": 19,
      "outputs": [
        {
          "output_type": "stream",
          "name": "stdout",
          "text": [
            "[(997,         userId  movieId  rating     timestamp\n",
            "142065     997    79132     4.5  1.529242e+09\n",
            "142769     997   164909     5.0  1.529249e+09\n",
            "142949     997   179401     4.0  1.529250e+09\n",
            "143041     997   192385     4.0  1.573856e+09), (1920,         userId  movieId  rating     timestamp\n",
            "275858    1920    79132     5.0  1.425579e+09\n",
            "276230    1920   164909     4.0  1.551670e+09\n",
            "276281    1920   179401     3.0  1.551670e+09\n",
            "276334    1920   192385     4.0  1.551670e+09), (3063,         userId  movieId  rating     timestamp\n",
            "446367    3063    79132     4.5  1.487175e+09\n",
            "446467    3063   164909     4.5  1.498424e+09\n",
            "446491    3063   179401     2.5  1.528159e+09\n",
            "446503    3063   192385     4.0  1.550500e+09), (3870,         userId  movieId  rating     timestamp\n",
            "567925    3870    79132     4.0  1.291219e+09\n",
            "568254    3870   164909     5.0  1.484561e+09\n",
            "568298    3870   179401     4.0  1.545416e+09\n",
            "568327    3870   192385     4.0  1.545416e+09), (4235,         userId  movieId  rating     timestamp\n",
            "617752    4235    79132     4.0  1.548910e+09\n",
            "617834    4235   164909     4.5  1.548911e+09\n",
            "617859    4235   179401     3.5  1.548912e+09\n",
            "617878    4235   192385     4.5  1.548911e+09)]\n"
          ]
        },
        {
          "output_type": "stream",
          "name": "stderr",
          "text": [
            "<ipython-input-19-af8a4a42e498>:10: FutureWarning: In a future version of pandas, a length 1 tuple will be returned when iterating over a groupby with a grouper equal to a list of length 1. Don't supply a list with a single grouper to avoid this warning.\n",
            "  userSubsetGroup = sorted(userSubsetGroup, key=take_5_elem, reverse=True)\n"
          ]
        }
      ]
    },
    {
      "cell_type": "code",
      "source": [
        "pearsonCorrelationDict = {}\n",
        "\n",
        "for name, group in userSubsetGroup:\n",
        "\n",
        "    group = group.sort_values(by='movieId')\n",
        "    inputMovies = inputMovies.sort_values(by='movieId')\n",
        "\n",
        "    nRatings = len(group)\n",
        "    temp_df = inputMovies[inputMovies['movieId'].isin(group['movieId'].tolist())]\n",
        "\n",
        "    tempRatingList = temp_df['rating'].tolist()\n",
        "\n",
        "\n",
        "    tempGroupList = group['rating'].tolist()\n",
        "\n",
        "\n",
        "    Sxx = sum([i**2 for i in tempRatingList]) - pow(sum(tempRatingList),2)/float(nRatings)\n",
        "    Syy = sum([i**2 for i in tempGroupList]) - pow(sum(tempGroupList),2)/float(nRatings)\n",
        "    Sxy = sum( i*j for i, j in zip(tempRatingList, tempGroupList)) - sum(tempRatingList)*sum(tempGroupList)/float(nRatings)\n",
        "\n",
        "    if Sxx != 0 and Syy != 0:\n",
        "        pearsonCorrelationDict[name] = Sxy/sqrt(Sxx*Syy)\n",
        "    else:\n",
        "        pearsonCorrelationDict[name] = 0"
      ],
      "metadata": {
        "id": "wnS39gth1lOU"
      },
      "execution_count": 20,
      "outputs": []
    },
    {
      "cell_type": "code",
      "source": [
        "pearsonDF = pd.DataFrame.from_dict(pearsonCorrelationDict, orient='index')\n",
        "pearsonDF.columns = ['similarityIndex']\n",
        "pearsonDF['userId'] = pearsonDF.index\n",
        "pearsonDF.index = range(len(pearsonDF))\n",
        "print(pearsonDF.head())"
      ],
      "metadata": {
        "colab": {
          "base_uri": "https://localhost:8080/"
        },
        "id": "QIt3imlm10_A",
        "outputId": "3bb05b0d-91f3-484d-bc61-705a8b386e8f"
      },
      "execution_count": 21,
      "outputs": [
        {
          "output_type": "stream",
          "name": "stdout",
          "text": [
            "   similarityIndex  userId\n",
            "0         0.345857     997\n",
            "1         0.648886    1920\n",
            "2         0.314870    3063\n",
            "3        -0.132453    3870\n",
            "4        -0.345857    4235\n"
          ]
        }
      ]
    },
    {
      "cell_type": "code",
      "source": [
        "topUsers=pearsonDF.sort_values(by='similarityIndex', ascending=False)[0:50]\n",
        "print(topUsers.head())"
      ],
      "metadata": {
        "colab": {
          "base_uri": "https://localhost:8080/"
        },
        "id": "sshsE6_a160h",
        "outputId": "91e7d64c-ac07-4c93-c325-f5ffbeca7e65"
      },
      "execution_count": 22,
      "outputs": [
        {
          "output_type": "stream",
          "name": "stdout",
          "text": [
            "    similarityIndex  userId\n",
            "19              1.0    4246\n",
            "99              1.0    3652\n",
            "79              1.0    2671\n",
            "77              1.0    2457\n",
            "73              1.0    2403\n"
          ]
        }
      ]
    },
    {
      "cell_type": "code",
      "source": [
        "topUsersRating=topUsers.merge(ratings, left_on='userId', right_on='userId', how='inner')\n",
        "print(topUsersRating.head(100))"
      ],
      "metadata": {
        "colab": {
          "base_uri": "https://localhost:8080/"
        },
        "id": "qCj8-_Yj19ov",
        "outputId": "e1ee22b4-4587-4b6b-e455-fcb3c4690e3a"
      },
      "execution_count": 24,
      "outputs": [
        {
          "output_type": "stream",
          "name": "stdout",
          "text": [
            "    similarityIndex  userId  movieId  rating     timestamp\n",
            "0               1.0    4246        1     4.0  1.567305e+09\n",
            "1               1.0    4246        2     4.0  1.569552e+09\n",
            "2               1.0    4246        6     4.5  1.567305e+09\n",
            "3               1.0    4246       32     4.5  1.567305e+09\n",
            "4               1.0    4246       44     3.5  1.569552e+09\n",
            "..              ...     ...      ...     ...           ...\n",
            "95              1.0    4246     1222     5.0  1.567305e+09\n",
            "96              1.0    4246     1225     5.0  1.567305e+09\n",
            "97              1.0    4246     1230     4.5  1.567305e+09\n",
            "98              1.0    4246     1232     3.5  1.569552e+09\n",
            "99              1.0    4246     1234     4.0  1.567305e+09\n",
            "\n",
            "[100 rows x 5 columns]\n"
          ]
        }
      ]
    },
    {
      "cell_type": "code",
      "source": [
        "topUsersRating['weightedRating'] = topUsersRating['similarityIndex']*topUsersRating['rating']\n",
        "print(topUsersRating.head())"
      ],
      "metadata": {
        "colab": {
          "base_uri": "https://localhost:8080/"
        },
        "id": "Y5kgs_yJ2zMM",
        "outputId": "65919ae5-d1f5-408d-c271-f0227a09ac2c"
      },
      "execution_count": 25,
      "outputs": [
        {
          "output_type": "stream",
          "name": "stdout",
          "text": [
            "   similarityIndex  userId  movieId  rating     timestamp  weightedRating\n",
            "0              1.0    4246        1     4.0  1.567305e+09             4.0\n",
            "1              1.0    4246        2     4.0  1.569552e+09             4.0\n",
            "2              1.0    4246        6     4.5  1.567305e+09             4.5\n",
            "3              1.0    4246       32     4.5  1.567305e+09             4.5\n",
            "4              1.0    4246       44     3.5  1.569552e+09             3.5\n"
          ]
        }
      ]
    },
    {
      "cell_type": "code",
      "source": [
        "tempTopUsersRating = topUsersRating.groupby('movieId').sum()[['similarityIndex','weightedRating']]\n",
        "tempTopUsersRating.columns = ['sum_similarityIndex','sum_weightedRating']\n",
        "print(tempTopUsersRating.head())"
      ],
      "metadata": {
        "colab": {
          "base_uri": "https://localhost:8080/"
        },
        "id": "v2isWz4n28A2",
        "outputId": "68a91fac-72c2-495a-de00-4f775fe2f1d7"
      },
      "execution_count": 26,
      "outputs": [
        {
          "output_type": "stream",
          "name": "stdout",
          "text": [
            "         sum_similarityIndex  sum_weightedRating\n",
            "movieId                                         \n",
            "1                  25.072483           92.846447\n",
            "2                  16.304788           58.140565\n",
            "3                   2.000000            6.000000\n",
            "4                   1.000000            1.000000\n",
            "5                   1.927173            5.781518\n"
          ]
        }
      ]
    },
    {
      "cell_type": "code",
      "source": [
        "recommendation_df = pd.DataFrame()\n",
        "\n",
        "#the weighted average\n",
        "recommendation_df['weighted average recommendation score'] = tempTopUsersRating['sum_weightedRating']/tempTopUsersRating['sum_similarityIndex']\n",
        "recommendation_df['movieId'] = tempTopUsersRating.index\n",
        "print(recommendation_df.head(10))"
      ],
      "metadata": {
        "colab": {
          "base_uri": "https://localhost:8080/"
        },
        "id": "TREzoauV3BuF",
        "outputId": "1ea406ff-2bcc-4c2c-9cb8-8b9fefb45fe8"
      },
      "execution_count": 27,
      "outputs": [
        {
          "output_type": "stream",
          "name": "stdout",
          "text": [
            "         weighted average recommendation score  movieId\n",
            "movieId                                                \n",
            "1                                     3.703121        1\n",
            "2                                     3.565858        2\n",
            "3                                     3.000000        3\n",
            "4                                     1.000000        4\n",
            "5                                     3.000000        5\n",
            "6                                     4.025711        6\n",
            "7                                     2.500000        7\n",
            "10                                    3.415583       10\n",
            "11                                    3.734875       11\n",
            "12                                    1.750000       12\n"
          ]
        }
      ]
    },
    {
      "cell_type": "code",
      "source": [
        "recommendation_df = recommendation_df.sort_values(by='weighted average recommendation score', ascending=False)\n",
        "print(recommendation_df)"
      ],
      "metadata": {
        "colab": {
          "base_uri": "https://localhost:8080/"
        },
        "id": "_DyUXt-73JbT",
        "outputId": "d375c179-7bd9-498e-da7d-6c0e74403a46"
      },
      "execution_count": 28,
      "outputs": [
        {
          "output_type": "stream",
          "name": "stdout",
          "text": [
            "         weighted average recommendation score  movieId\n",
            "movieId                                                \n",
            "92391                                      5.0    92391\n",
            "1880                                       5.0     1880\n",
            "160990                                     5.0   160990\n",
            "37855                                      5.0    37855\n",
            "96966                                      5.0    96966\n",
            "...                                        ...      ...\n",
            "157365                                     0.5   157365\n",
            "233                                        0.5      233\n",
            "2072                                       0.5     2072\n",
            "135765                                     0.5   135765\n",
            "151987                                     0.5   151987\n",
            "\n",
            "[7877 rows x 2 columns]\n"
          ]
        }
      ]
    },
    {
      "cell_type": "code",
      "source": [
        "recommended_movie=movies.loc[movies['movieId'].isin(recommendation_df['movieId'])]\n",
        "\n",
        "recommended_movie=recommended_movie.loc[~recommended_movie.movieId.isin(userSubset['movieId'])]\n",
        "\n",
        "print(recommended_movie)"
      ],
      "metadata": {
        "colab": {
          "base_uri": "https://localhost:8080/"
        },
        "id": "1ITEJ0Fu3Lh6",
        "outputId": "b12d2fd9-58f3-44f9-9255-b37449a050b6"
      },
      "execution_count": 30,
      "outputs": [
        {
          "output_type": "stream",
          "name": "stdout",
          "text": [
            "       movieId                               title  \\\n",
            "0            1                    Toy Story (1995)   \n",
            "1            2                      Jumanji (1995)   \n",
            "2            3             Grumpier Old Men (1995)   \n",
            "3            4            Waiting to Exhale (1995)   \n",
            "4            5  Father of the Bride Part II (1995)   \n",
            "...        ...                                 ...   \n",
            "61935   207309                    Fractured (2019)   \n",
            "61960   207367              Little Monsters (2019)   \n",
            "62106   207890                    Countdown (2019)   \n",
            "62126   208002                The Kill Team (2019)   \n",
            "62149   208080                        Bruja (2019)   \n",
            "\n",
            "                                            genres  \n",
            "0      Adventure|Animation|Children|Comedy|Fantasy  \n",
            "1                       Adventure|Children|Fantasy  \n",
            "2                                   Comedy|Romance  \n",
            "3                             Comedy|Drama|Romance  \n",
            "4                                           Comedy  \n",
            "...                                            ...  \n",
            "61935                                     Thriller  \n",
            "61960                                Comedy|Horror  \n",
            "62106                              Horror|Thriller  \n",
            "62126                                    Drama|War  \n",
            "62149                       Drama|Fantasy|Thriller  \n",
            "\n",
            "[7873 rows x 3 columns]\n"
          ]
        }
      ]
    }
  ]
}